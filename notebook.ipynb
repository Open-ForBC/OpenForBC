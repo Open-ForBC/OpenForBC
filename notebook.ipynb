{
 "cells": [
  {
   "cell_type": "code",
   "execution_count": 2,
   "metadata": {},
   "outputs": [
    {
     "name": "stdout",
     "output_type": "stream",
     "text": [
      "[[474: GRID A100-1-5C (MIG), 475: GRID A100-2-10C (MIG), 476: GRID A100-3-20C (MIG), 477: GRID A100-4-20C (MIG), 478: GRID A100-7-40C (MIG), 468: GRID A100-4C, 469: GRID A100-5C, 470: GRID A100-8C, 471: GRID A100-10C, 472: GRID A100-20C, 473: GRID A100-40C, 706: GRID A100-1-5CME (MIG)]]\n",
      "[[476: GRID A100-3-20C (MIG), 474: GRID A100-1-5C (MIG), 706: GRID A100-1-5CME (MIG)]]\n",
      "[<MIGModeStatus.ENABLE: 1>]\n",
      "[<VGPUMode.SRIOV: 1>]\n",
      "[16]\n"
     ]
    }
   ],
   "source": [
    "from importlib import reload\n",
    "from openforbc.gpu import GPU, VGPUType\n",
    "import openforbc.gpu; reload(openforbc.gpu)\n",
    "\n",
    "gpus = GPU.get_gpus()\n",
    "print([x.supported_vgpu_types for x in gpus])\n",
    "print([x.get_creatable_vgpus() for x in gpus])\n",
    "print([x.get_current_mig_status() for x in gpus])\n",
    "print([x.get_vgpu_mode() for x in gpus])\n",
    "print([x.get_vf_num() for x in gpus])"
   ]
  },
  {
   "cell_type": "code",
   "execution_count": 5,
   "metadata": {},
   "outputs": [
    {
     "name": "stdout",
     "output_type": "stream",
     "text": [
      "[5120.0, 10240.0, 20480.0, 20480.0, 40960.0, 4096.0, 5120.0, 8192.0, 10240.0, 20480.0, 40960.0, 5120.0]\n"
     ]
    }
   ],
   "source": [
    "gpu = gpus[0]\n",
    "print([x.fb_size/2**20 for x in gpu.supported_vgpu_types])"
   ]
  },
  {
   "cell_type": "code",
   "execution_count": 51,
   "metadata": {},
   "outputs": [
    {
     "name": "stdout",
     "output_type": "stream",
     "text": [
      "7\n",
      "[476: GRID A100-3-20C (MIG), 474: GRID A100-1-5C (MIG), 706: GRID A100-1-5CME (MIG)]\n"
     ]
    }
   ],
   "source": [
    "gpu = gpus[0]\n",
    "print(gpu.get_vgpu_max_instances(VGPUType.from_id(474)))\n",
    "print(gpu.get_vf_available_vgpus(1))"
   ]
  },
  {
   "cell_type": "code",
   "execution_count": 1,
   "metadata": {},
   "outputs": [],
   "source": [
    "from pynvml import *\n",
    "from pynvml import NVMLError_NotSupported\n",
    "nvmlInit()"
   ]
  },
  {
   "cell_type": "code",
   "execution_count": 3,
   "metadata": {},
   "outputs": [
    {
     "data": {
      "text/plain": [
       "b'NVIDIA A100-PCIE-40GB'"
      ]
     },
     "execution_count": 3,
     "metadata": {},
     "output_type": "execute_result"
    }
   ],
   "source": [
    "dev = nvmlDeviceGetHandleByIndex(0)\n",
    "nvmlDeviceGetName(dev)"
   ]
  },
  {
   "cell_type": "code",
   "execution_count": 4,
   "metadata": {},
   "outputs": [],
   "source": [
    "info = nvmlDeviceGetPciInfo_v3(dev)"
   ]
  },
  {
   "cell_type": "code",
   "execution_count": 13,
   "metadata": {},
   "outputs": [
    {
     "data": {
      "text/plain": [
       "b'0000:41:00.0'"
      ]
     },
     "execution_count": 13,
     "metadata": {},
     "output_type": "execute_result"
    }
   ],
   "source": [
    "info.busIdLegacy"
   ]
  },
  {
   "cell_type": "code",
   "execution_count": 5,
   "metadata": {},
   "outputs": [
    {
     "ename": "NVMLError_NoPermission",
     "evalue": "Insufficient Permissions",
     "output_type": "error",
     "traceback": [
      "\u001b[0;31m---------------------------------------------------------------------------\u001b[0m",
      "\u001b[0;31mNVMLError_NoPermission\u001b[0m                    Traceback (most recent call last)",
      "\u001b[0;32m<ipython-input-5-efc7cd90aa10>\u001b[0m in \u001b[0;36m<module>\u001b[0;34m\u001b[0m\n\u001b[1;32m      4\u001b[0m \u001b[0;32mfor\u001b[0m \u001b[0mi\u001b[0m \u001b[0;32min\u001b[0m \u001b[0mrange\u001b[0m\u001b[0;34m(\u001b[0m\u001b[0mNVML_GPU_INSTANCE_PROFILE_COUNT\u001b[0m\u001b[0;34m)\u001b[0m\u001b[0;34m:\u001b[0m\u001b[0;34m\u001b[0m\u001b[0;34m\u001b[0m\u001b[0m\n\u001b[1;32m      5\u001b[0m     \u001b[0;32mtry\u001b[0m\u001b[0;34m:\u001b[0m\u001b[0;34m\u001b[0m\u001b[0;34m\u001b[0m\u001b[0m\n\u001b[0;32m----> 6\u001b[0;31m         \u001b[0mgips\u001b[0m\u001b[0;34m.\u001b[0m\u001b[0mappend\u001b[0m\u001b[0;34m(\u001b[0m\u001b[0mnvmlDeviceGetGpuInstanceProfileInfo\u001b[0m\u001b[0;34m(\u001b[0m\u001b[0mdev\u001b[0m\u001b[0;34m,\u001b[0m \u001b[0mi\u001b[0m\u001b[0;34m)\u001b[0m\u001b[0;34m)\u001b[0m\u001b[0;34m\u001b[0m\u001b[0;34m\u001b[0m\u001b[0m\n\u001b[0m\u001b[1;32m      7\u001b[0m     \u001b[0;32mexcept\u001b[0m \u001b[0mNVMLError_NotSupported\u001b[0m\u001b[0;34m:\u001b[0m\u001b[0;34m\u001b[0m\u001b[0;34m\u001b[0m\u001b[0m\n\u001b[1;32m      8\u001b[0m         \u001b[0;32mpass\u001b[0m\u001b[0;34m\u001b[0m\u001b[0;34m\u001b[0m\u001b[0m\n",
      "\u001b[0;32m~/.cache/pypoetry/virtualenvs/openforbc-UMbcKtFD-py3.6/lib/python3.6/site-packages/pynvml/nvml.py\u001b[0m in \u001b[0;36mnvmlDeviceGetGpuInstanceProfileInfo\u001b[0;34m(device, profile)\u001b[0m\n\u001b[1;32m   3473\u001b[0m     \u001b[0mfn\u001b[0m \u001b[0;34m=\u001b[0m \u001b[0m_nvmlGetFunctionPointer\u001b[0m\u001b[0;34m(\u001b[0m\u001b[0;34m\"nvmlDeviceGetGpuInstanceProfileInfo\"\u001b[0m\u001b[0;34m)\u001b[0m\u001b[0;34m\u001b[0m\u001b[0;34m\u001b[0m\u001b[0m\n\u001b[1;32m   3474\u001b[0m     \u001b[0mret\u001b[0m \u001b[0;34m=\u001b[0m \u001b[0mfn\u001b[0m\u001b[0;34m(\u001b[0m\u001b[0mdevice\u001b[0m\u001b[0;34m,\u001b[0m \u001b[0mprofile\u001b[0m\u001b[0;34m,\u001b[0m \u001b[0mbyref\u001b[0m\u001b[0;34m(\u001b[0m\u001b[0mc_info\u001b[0m\u001b[0;34m)\u001b[0m\u001b[0;34m)\u001b[0m\u001b[0;34m\u001b[0m\u001b[0;34m\u001b[0m\u001b[0m\n\u001b[0;32m-> 3475\u001b[0;31m     \u001b[0m_nvmlCheckReturn\u001b[0m\u001b[0;34m(\u001b[0m\u001b[0mret\u001b[0m\u001b[0;34m)\u001b[0m\u001b[0;34m\u001b[0m\u001b[0;34m\u001b[0m\u001b[0m\n\u001b[0m\u001b[1;32m   3476\u001b[0m     \u001b[0;32mreturn\u001b[0m \u001b[0mc_info\u001b[0m\u001b[0;34m\u001b[0m\u001b[0;34m\u001b[0m\u001b[0m\n\u001b[1;32m   3477\u001b[0m \u001b[0;34m\u001b[0m\u001b[0m\n",
      "\u001b[0;32m~/.cache/pypoetry/virtualenvs/openforbc-UMbcKtFD-py3.6/lib/python3.6/site-packages/pynvml/nvml.py\u001b[0m in \u001b[0;36m_nvmlCheckReturn\u001b[0;34m(ret)\u001b[0m\n\u001b[1;32m    763\u001b[0m \u001b[0;32mdef\u001b[0m \u001b[0m_nvmlCheckReturn\u001b[0m\u001b[0;34m(\u001b[0m\u001b[0mret\u001b[0m\u001b[0;34m)\u001b[0m\u001b[0;34m:\u001b[0m\u001b[0;34m\u001b[0m\u001b[0;34m\u001b[0m\u001b[0m\n\u001b[1;32m    764\u001b[0m     \u001b[0;32mif\u001b[0m \u001b[0;34m(\u001b[0m\u001b[0mret\u001b[0m \u001b[0;34m!=\u001b[0m \u001b[0mNVML_SUCCESS\u001b[0m\u001b[0;34m)\u001b[0m\u001b[0;34m:\u001b[0m\u001b[0;34m\u001b[0m\u001b[0;34m\u001b[0m\u001b[0m\n\u001b[0;32m--> 765\u001b[0;31m         \u001b[0;32mraise\u001b[0m \u001b[0mNVMLError\u001b[0m\u001b[0;34m(\u001b[0m\u001b[0mret\u001b[0m\u001b[0;34m)\u001b[0m\u001b[0;34m\u001b[0m\u001b[0;34m\u001b[0m\u001b[0m\n\u001b[0m\u001b[1;32m    766\u001b[0m     \u001b[0;32mreturn\u001b[0m \u001b[0mret\u001b[0m\u001b[0;34m\u001b[0m\u001b[0;34m\u001b[0m\u001b[0m\n\u001b[1;32m    767\u001b[0m \u001b[0;34m\u001b[0m\u001b[0m\n",
      "\u001b[0;31mNVMLError_NoPermission\u001b[0m: Insufficient Permissions"
     ]
    }
   ],
   "source": [
    "INVALID_GPU_INSTANCE_PROFILE_ID = 0xFFFFFFFF\n",
    "\n",
    "gips = []\n",
    "for i in range(NVML_GPU_INSTANCE_PROFILE_COUNT):\n",
    "    try:\n",
    "        gips.append(nvmlDeviceGetGpuInstanceProfileInfo(dev, i))\n",
    "    except NVMLError_NotSupported:\n",
    "        pass\n",
    "\n",
    "for id in nvmlDeviceGetSupportedVgpus(dev):\n",
    "    gi = nvmlVgpuTypeGetGpuInstanceProfileId(id)\n",
    "    is_mig = gi != INVALID_GPU_INSTANCE_PROFILE_ID\n",
    "    if is_mig:\n",
    "        print(f\"searching for GIP {gi}\")\n",
    "        print(gips)\n",
    "        gi_info = next(x for x in gips if x.id == gi)\n",
    "\n",
    "    print(f\"{nvmlVgpuTypeGetName(id)} {'(MIG)' if is_mig else ''}\")\n"
   ]
  },
  {
   "cell_type": "code",
   "execution_count": null,
   "metadata": {},
   "outputs": [],
   "source": [
    "nvmlShutdown()"
   ]
  }
 ],
 "metadata": {
  "interpreter": {
   "hash": "ae8db14050919139f9d2c7b0704773236fd14e0ef0722b7150eb3d479cc49d76"
  },
  "kernelspec": {
   "display_name": "Python 3",
   "language": "python",
   "name": "python3"
  },
  "language_info": {
   "codemirror_mode": {
    "name": "ipython",
    "version": 3
   },
   "file_extension": ".py",
   "mimetype": "text/x-python",
   "name": "python",
   "nbconvert_exporter": "python",
   "pygments_lexer": "ipython3",
   "version": "3.6.8"
  },
  "orig_nbformat": 4
 },
 "nbformat": 4,
 "nbformat_minor": 2
}
