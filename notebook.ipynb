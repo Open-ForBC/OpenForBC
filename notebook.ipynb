{
 "cells": [
  {
   "cell_type": "code",
   "execution_count": 28,
   "metadata": {},
   "outputs": [],
   "source": [
    "from importlib import reload\n",
    "\n",
    "import openforbc.gpu; reload(openforbc.gpu)\n",
    "import openforbc.gpu.nvidia.gpu; reload(openforbc.gpu.nvidia.gpu)\n",
    "from openforbc.gpu import GPU\n",
    "import openforbc.sysfs; reload(openforbc.sysfs);\n",
    "from openforbc.sysfs.gpu import GPUSysFsHandle"
   ]
  },
  {
   "cell_type": "code",
   "execution_count": 29,
   "metadata": {},
   "outputs": [
    {
     "name": "stdout",
     "output_type": "stream",
     "text": [
      "NVIDIA A100-PCIE-40GB\n"
     ]
    }
   ],
   "source": [
    "gpus = GPU.get_gpus()\n",
    "gpu = gpus[0]\n",
    "print(gpu)"
   ]
  },
  {
   "cell_type": "code",
   "execution_count": 30,
   "metadata": {},
   "outputs": [
    {
     "name": "stdout",
     "output_type": "stream",
     "text": [
      "[474: GRID A100-1-5C (MIG), 475: GRID A100-2-10C (MIG), 476: GRID A100-3-20C (MIG), 477: GRID A100-4-20C (MIG), 478: GRID A100-7-40C (MIG), 468: GRID A100-4C, 469: GRID A100-5C, 470: GRID A100-8C, 471: GRID A100-10C, 472: GRID A100-20C, 473: GRID A100-40C, 706: GRID A100-1-5CME (MIG)]\n",
      "[469: GRID A100-5C]\n"
     ]
    }
   ],
   "source": [
    "print(gpu.get_supported_types())\n",
    "print(gpu.get_creatable_types())"
   ]
  },
  {
   "cell_type": "code",
   "execution_count": 38,
   "metadata": {},
   "outputs": [
    {
     "name": "stdout",
     "output_type": "stream",
     "text": [
      "created 468: GRID A100-4C ca3601d8-195b-4df2-9d2c-119cb46b25c1 on 0000:21:00.4\n"
     ]
    }
   ],
   "source": [
    "if gpu.get_creatable_types():\n",
    "    partition = gpu.create_partition(gpu.get_creatable_types()[0])\n",
    "    print(f\"created {partition}\")"
   ]
  },
  {
   "cell_type": "code",
   "execution_count": 40,
   "metadata": {},
   "outputs": [
    {
     "name": "stdout",
     "output_type": "stream",
     "text": [
      "468: GRID A100-4C ca3601d8-195b-4df2-9d2c-119cb46b25c1 on 0000:21:00.4\n"
     ]
    }
   ],
   "source": [
    "partitions = gpu.get_partitions()\n",
    "for p in partitions:\n",
    "    print(p)"
   ]
  },
  {
   "cell_type": "code",
   "execution_count": 37,
   "metadata": {},
   "outputs": [
    {
     "name": "stdout",
     "output_type": "stream",
     "text": [
      "469: GRID A100-5C f6913d1f-864f-4e5e-8ef8-68b64eadc44f on 0000:21:00.4\n"
     ]
    }
   ],
   "source": [
    "p = partitions.pop()\n",
    "print(p)\n",
    "p.destroy()"
   ]
  },
  {
   "cell_type": "code",
   "execution_count": 38,
   "metadata": {},
   "outputs": [
    {
     "name": "stdout",
     "output_type": "stream",
     "text": [
      "mdev: False, sriov: True\n",
      "numvfs: 16\n",
      "first available vf is 0000:21:00.7\n",
      "469: GRID A100-5C can be created on /sys/devices/pci0000:20/0000:20:01.1/0000:21:00.7\n"
     ]
    },
    {
     "data": {
      "text/plain": [
       "469: GRID A100-5C 7ce8ece3-72cd-4f00-abe4-d68ab4468e52 on 0000:21:00.7"
      ]
     },
     "execution_count": 38,
     "metadata": {},
     "output_type": "execute_result"
    }
   ],
   "source": [
    "gpu = gpus[0]\n",
    "\n",
    "sysfs = GPUSysFsHandle.from_gpu(gpu)\n",
    "print(f\"mdev: {sysfs.get_mdev_supported()}, sriov: {sysfs.get_sriov_active()}\")\n",
    "if sysfs.get_sriov_active():\n",
    "    print(f\"numvfs: {sysfs.get_sriov_num_vfs()}\")\n",
    "\n",
    "vgpu_type = gpu.get_creatable_vgpus()[0]\n",
    "\n",
    "print(f\"first available vf is {sysfs.get_sriov_available_vf()}\")\n",
    "\n",
    "for vf in sysfs.get_sriov_vfs():\n",
    "    if vf.get_mdev_type_available(f\"nvidia-{vgpu_type.id}\"):\n",
    "        print(f\"{vgpu_type} can be created on {vf._path}\")\n",
    "        break\n",
    "\n",
    "gpu.create_vgpu(vgpu_type)"
   ]
  },
  {
   "cell_type": "code",
   "execution_count": 5,
   "metadata": {},
   "outputs": [],
   "source": [
    "from pynvml import *\n",
    "from pynvml import NVMLError_NotSupported\n",
    "nvmlInit()"
   ]
  },
  {
   "cell_type": "code",
   "execution_count": 5,
   "metadata": {},
   "outputs": [
    {
     "data": {
      "text/plain": [
       "b'NVIDIA A100-PCIE-40GB'"
      ]
     },
     "execution_count": 5,
     "metadata": {},
     "output_type": "execute_result"
    }
   ],
   "source": [
    "dev = nvmlDeviceGetHandleByIndex(0)\n",
    "nvmlDeviceGetName(dev)"
   ]
  },
  {
   "cell_type": "code",
   "execution_count": 6,
   "metadata": {},
   "outputs": [
    {
     "data": {
      "text/plain": [
       "b'0000:21:00.0'"
      ]
     },
     "execution_count": 6,
     "metadata": {},
     "output_type": "execute_result"
    }
   ],
   "source": [
    "info = nvmlDeviceGetPciInfo_v3(dev)\n",
    "info.busIdLegacy"
   ]
  },
  {
   "cell_type": "code",
   "execution_count": 25,
   "metadata": {},
   "outputs": [
    {
     "data": {
      "text/plain": [
       "b'NVIDIA A100-PCIE-40GB'"
      ]
     },
     "execution_count": 25,
     "metadata": {},
     "output_type": "execute_result"
    }
   ],
   "source": [
    "dev = nvmlDeviceGetHandleByPciBusId(b\"0000:21:00.0\")\n",
    "nvmlDeviceGetName(dev)"
   ]
  },
  {
   "cell_type": "code",
   "execution_count": 10,
   "metadata": {},
   "outputs": [
    {
     "name": "stdout",
     "output_type": "stream",
     "text": [
      "searching for GIP 19\n"
     ]
    },
    {
     "ename": "StopIteration",
     "evalue": "",
     "output_type": "error",
     "traceback": [
      "\u001b[0;31m---------------------------------------------------------------------------\u001b[0m",
      "\u001b[0;31mStopIteration\u001b[0m                             Traceback (most recent call last)",
      "\u001b[1;32m/home/monteleo/openforbc/notebook.ipynb Cell 8'\u001b[0m in \u001b[0;36m<module>\u001b[0;34m\u001b[0m\n\u001b[1;32m     <a href='vscode-notebook-cell://ssh-remote%2Bo4bc-02/home/monteleo/openforbc/notebook.ipynb#ch0000007vscode-remote?line=12'>13</a>\u001b[0m \u001b[39mif\u001b[39;00m is_mig:\n\u001b[1;32m     <a href='vscode-notebook-cell://ssh-remote%2Bo4bc-02/home/monteleo/openforbc/notebook.ipynb#ch0000007vscode-remote?line=13'>14</a>\u001b[0m     \u001b[39mprint\u001b[39m(\u001b[39mf\u001b[39m\u001b[39m\"\u001b[39m\u001b[39msearching for GIP \u001b[39m\u001b[39m{\u001b[39;00mgi\u001b[39m}\u001b[39;00m\u001b[39m\"\u001b[39m)\n\u001b[0;32m---> <a href='vscode-notebook-cell://ssh-remote%2Bo4bc-02/home/monteleo/openforbc/notebook.ipynb#ch0000007vscode-remote?line=14'>15</a>\u001b[0m     gi_info \u001b[39m=\u001b[39m \u001b[39mnext\u001b[39;49m(x \u001b[39mfor\u001b[39;49;00m x \u001b[39min\u001b[39;49;00m gips \u001b[39mif\u001b[39;49;00m x\u001b[39m.\u001b[39;49mid \u001b[39m==\u001b[39;49m gi)\n\u001b[1;32m     <a href='vscode-notebook-cell://ssh-remote%2Bo4bc-02/home/monteleo/openforbc/notebook.ipynb#ch0000007vscode-remote?line=15'>16</a>\u001b[0m     mem \u001b[39m=\u001b[39m \u001b[39mround\u001b[39m(gi_info\u001b[39m.\u001b[39mmemorySizeMB \u001b[39m/\u001b[39m \u001b[39m1000\u001b[39m)\n\u001b[1;32m     <a href='vscode-notebook-cell://ssh-remote%2Bo4bc-02/home/monteleo/openforbc/notebook.ipynb#ch0000007vscode-remote?line=16'>17</a>\u001b[0m     gi_name \u001b[39m=\u001b[39m \u001b[39mf\u001b[39m\u001b[39m\"\u001b[39m\u001b[39m{\u001b[39;00mgi_info\u001b[39m.\u001b[39msliceCount\u001b[39m}\u001b[39;00m\u001b[39mg.\u001b[39m\u001b[39m{\u001b[39;00mmem\u001b[39m}\u001b[39;00m\u001b[39mgb\u001b[39m\u001b[39m\"\u001b[39m\n",
      "\u001b[0;31mStopIteration\u001b[0m: "
     ]
    }
   ],
   "source": [
    "INVALID_GPU_INSTANCE_PROFILE_ID = 0xFFFFFFFF\n",
    "\n",
    "gips = []\n",
    "for i in range(NVML_GPU_INSTANCE_PROFILE_COUNT):\n",
    "    try:\n",
    "        gips.append(nvmlDeviceGetGpuInstanceProfileInfo(dev, i))\n",
    "    except NVMLError_NotSupported:\n",
    "        pass\n",
    "\n",
    "for id in nvmlDeviceGetSupportedVgpus(dev):\n",
    "    gi = nvmlVgpuTypeGetGpuInstanceProfileId(id)\n",
    "    is_mig = gi != INVALID_GPU_INSTANCE_PROFILE_ID\n",
    "    if is_mig:\n",
    "        print(f\"searching for GIP {gi}\")\n",
    "        gi_info = next(x for x in gips if x.id == gi)\n",
    "        mem = round(gi_info.memorySizeMB / 1000)\n",
    "        gi_name = f\"{gi_info.sliceCount}g.{mem}gb\"\n",
    "\n",
    "    print(f\"{nvmlVgpuTypeGetName(id)} {'(MIG: ' + gi_name +')' if is_mig else ''}\")\n"
   ]
  },
  {
   "cell_type": "code",
   "execution_count": 16,
   "metadata": {},
   "outputs": [
    {
     "ename": "IndexError",
     "evalue": "list index out of range",
     "output_type": "error",
     "traceback": [
      "\u001b[0;31m---------------------------------------------------------------------------\u001b[0m",
      "\u001b[0;31mIndexError\u001b[0m                                Traceback (most recent call last)",
      "\u001b[0;32m<ipython-input-16-7f9ecebbfbb1>\u001b[0m in \u001b[0;36m<module>\u001b[0;34m\u001b[0m\n\u001b[0;32m----> 1\u001b[0;31m \u001b[0mgips\u001b[0m\u001b[0;34m[\u001b[0m\u001b[0;36m0\u001b[0m\u001b[0;34m]\u001b[0m\u001b[0;34m.\u001b[0m\u001b[0mmemorySizeMB\u001b[0m\u001b[0;34m\u001b[0m\u001b[0;34m\u001b[0m\u001b[0m\n\u001b[0m",
      "\u001b[0;31mIndexError\u001b[0m: list index out of range"
     ]
    }
   ],
   "source": [
    "gips[0].memorySizeMB\n"
   ]
  },
  {
   "cell_type": "code",
   "execution_count": 1,
   "metadata": {},
   "outputs": [
    {
     "data": {
      "text/plain": [
       "0"
      ]
     },
     "execution_count": 1,
     "metadata": {},
     "output_type": "execute_result"
    }
   ],
   "source": [
    "from os import getuid\n",
    "getuid()"
   ]
  }
 ],
 "metadata": {
  "interpreter": {
   "hash": "ae8db14050919139f9d2c7b0704773236fd14e0ef0722b7150eb3d479cc49d76"
  },
  "kernelspec": {
   "display_name": "Python 3 (ipykernel)",
   "language": "python",
   "name": "python3"
  },
  "language_info": {
   "codemirror_mode": {
    "name": "ipython",
    "version": 3
   },
   "file_extension": ".py",
   "mimetype": "text/x-python",
   "name": "python",
   "nbconvert_exporter": "python",
   "pygments_lexer": "ipython3",
   "version": "3.9.6"
  }
 },
 "nbformat": 4,
 "nbformat_minor": 2
}
